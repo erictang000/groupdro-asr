{
 "cells": [
  {
   "cell_type": "code",
   "execution_count": 137,
   "id": "e533aeee",
   "metadata": {},
   "outputs": [],
   "source": [
    "import os\n",
    "import datasets \n",
    "from datasets import Dataset\n",
    "from collections import defaultdict\n",
    "import re\n",
    "from torch.utils.data import DataLoader\n",
    "from tqdm import tqdm\n"
   ]
  },
  {
   "cell_type": "code",
   "execution_count": 2,
   "id": "eb6ae418",
   "metadata": {},
   "outputs": [],
   "source": [
    "dataset_path = '/vision/u/eatang/ml_superb/eighth_version/'\n",
    "languages = []\n",
    "\n",
    "sources = os.listdir(dataset_path)\n",
    "\n",
    "for source in sources:\n",
    "    if source[0] != \".\":\n",
    "        languages.extend(os.listdir(os.path.join(dataset_path, source)))\n",
    "        \n",
    "languages = set([x for x in languages if '.' not in x])"
   ]
  },
  {
   "cell_type": "code",
   "execution_count": 3,
   "id": "ea5a2d5b",
   "metadata": {},
   "outputs": [],
   "source": [
    "def remove_punctuation(text):\n",
    "    return re.sub(r'[^\\w\\s]', '', text)\n",
    "\n",
    "language_to_paths = defaultdict(list)\n",
    "language_to_sentences = defaultdict(list)\n",
    "for language in languages:\n",
    "    for source in sources:\n",
    "        source_lang_path = os.path.join(dataset_path, source, language)\n",
    "        if os.path.exists(source_lang_path):\n",
    "            with open(os.path.join(source_lang_path, 'transcript_10min_test.txt'), 'r') as file:\n",
    "                lines = [line.rstrip() for line in file]\n",
    "                sentences = []\n",
    "                paths = []\n",
    "                for line in lines:\n",
    "                    sentence = \" \".join(re.split(r'[ \\t]+', line)[2:])\n",
    "                    sentence = remove_punctuation(sentence).lower().strip()\n",
    "                    if len(sentence) <= 1:\n",
    "                        continue\n",
    "                    if len(re.split(r'[ \\t]+', line)[0]) > 0:\n",
    "                        sentences.append(sentence)\n",
    "                        paths.append(os.path.join(source_lang_path, 'wav', re.split(r'[ \\t]+', line)[0] + '.wav'))\n",
    "            \n",
    "                language_to_paths[language].extend(paths)\n",
    "                language_to_sentences[language].extend(sentences)\n"
   ]
  },
  {
   "cell_type": "code",
   "execution_count": 4,
   "id": "fbf25ed1",
   "metadata": {},
   "outputs": [
    {
     "name": "stdout",
     "output_type": "stream",
     "text": [
      "Top 10 languages with most examples: ['eng', 'nld', 'deu', 'rus', 'fra', 'ita', 'gle', 'spa', 'ben', 'por']\n",
      "Top 10 languages with least examples: ['umb', 'mri', 'lin', 'nya', 'ibo', 'fil', 'lug', 'oci', 'sna', 'mya']\n"
     ]
    }
   ],
   "source": [
    "# Get the number of examples for each language\n",
    "language_example_counts = {language: len(sentences) for language, sentences in language_to_sentences.items()}\n",
    "\n",
    "# Sort languages by the number of examples in descending order\n",
    "languages_most_examples = sorted(language_example_counts, key=language_example_counts.get, reverse=True)[:10]\n",
    "\n",
    "# Sort languages by the number of examples in ascending order\n",
    "languages_least_examples = sorted(language_example_counts, key=language_example_counts.get)[:10]\n",
    "\n",
    "# Output the results\n",
    "print(\"Top 10 languages with most examples:\", languages_most_examples)\n",
    "print(\"Top 10 languages with least examples:\", languages_least_examples)\n"
   ]
  },
  {
   "cell_type": "code",
   "execution_count": 77,
   "id": "e43fe83b",
   "metadata": {},
   "outputs": [
    {
     "data": {
      "text/plain": [
       "{'abk',\n",
       " 'afr',\n",
       " 'amh',\n",
       " 'ara',\n",
       " 'asm',\n",
       " 'ast',\n",
       " 'aze',\n",
       " 'bak',\n",
       " 'bas',\n",
       " 'bel',\n",
       " 'ben',\n",
       " 'bos',\n",
       " 'bre',\n",
       " 'bul',\n",
       " 'cat',\n",
       " 'ceb',\n",
       " 'ces',\n",
       " 'chv',\n",
       " 'ckb',\n",
       " 'cmn',\n",
       " 'cnh',\n",
       " 'cym',\n",
       " 'dan',\n",
       " 'deu',\n",
       " 'div',\n",
       " 'ell',\n",
       " 'eng',\n",
       " 'epo',\n",
       " 'est',\n",
       " 'eus',\n",
       " 'fas',\n",
       " 'fil',\n",
       " 'fin',\n",
       " 'fra',\n",
       " 'frr',\n",
       " 'ful',\n",
       " 'gle',\n",
       " 'glg',\n",
       " 'grn',\n",
       " 'guj',\n",
       " 'hau',\n",
       " 'heb',\n",
       " 'hin',\n",
       " 'hrv',\n",
       " 'hsb',\n",
       " 'hun',\n",
       " 'hye',\n",
       " 'ibo',\n",
       " 'ina',\n",
       " 'ind',\n",
       " 'isl',\n",
       " 'ita',\n",
       " 'jav',\n",
       " 'jpn',\n",
       " 'kab',\n",
       " 'kam',\n",
       " 'kan',\n",
       " 'kat',\n",
       " 'kaz',\n",
       " 'kea',\n",
       " 'khm',\n",
       " 'kin',\n",
       " 'kir',\n",
       " 'kmr',\n",
       " 'kor',\n",
       " 'lao',\n",
       " 'lav',\n",
       " 'lga',\n",
       " 'lin',\n",
       " 'lit',\n",
       " 'ltz',\n",
       " 'lug',\n",
       " 'luo',\n",
       " 'mal',\n",
       " 'mar',\n",
       " 'mhr',\n",
       " 'mkd',\n",
       " 'mlt',\n",
       " 'mon',\n",
       " 'mri',\n",
       " 'mrj',\n",
       " 'msa',\n",
       " 'mya',\n",
       " 'myv',\n",
       " 'nan',\n",
       " 'nbl',\n",
       " 'nep',\n",
       " 'nld',\n",
       " 'nno',\n",
       " 'nob',\n",
       " 'nso',\n",
       " 'nya',\n",
       " 'oci',\n",
       " 'org_jpn',\n",
       " 'ori',\n",
       " 'orm',\n",
       " 'ory',\n",
       " 'pan',\n",
       " 'pol',\n",
       " 'por',\n",
       " 'pus',\n",
       " 'ron',\n",
       " 'rus',\n",
       " 'sah',\n",
       " 'sin',\n",
       " 'skr',\n",
       " 'slk',\n",
       " 'slv',\n",
       " 'sna',\n",
       " 'snd',\n",
       " 'som',\n",
       " 'sot',\n",
       " 'spa',\n",
       " 'srp',\n",
       " 'ssw',\n",
       " 'sun',\n",
       " 'swa',\n",
       " 'swe',\n",
       " 'tam',\n",
       " 'tat',\n",
       " 'tel',\n",
       " 'tgk',\n",
       " 'tha',\n",
       " 'tok',\n",
       " 'tos',\n",
       " 'tsn',\n",
       " 'tso',\n",
       " 'tur',\n",
       " 'uig',\n",
       " 'ukr',\n",
       " 'umb',\n",
       " 'urd',\n",
       " 'uzb',\n",
       " 'ven',\n",
       " 'vie',\n",
       " 'wol',\n",
       " 'xho',\n",
       " 'xty',\n",
       " 'yor',\n",
       " 'yue',\n",
       " 'zul'}"
      ]
     },
     "execution_count": 77,
     "metadata": {},
     "output_type": "execute_result"
    }
   ],
   "source": [
    "languages"
   ]
  },
  {
   "cell_type": "code",
   "execution_count": 5,
   "id": "0b84f9ab",
   "metadata": {},
   "outputs": [
    {
     "data": {
      "image/png": "[encoded data removed]",
      "text/plain": [
       "<Figure size 1400x600 with 2 Axes>"
      ]
     },
     "metadata": {},
     "output_type": "display_data"
    }
   ],
   "source": [
    "import matplotlib.pyplot as plt\n",
    "\n",
    "# Assuming languages_most_examples and languages_least_examples are already defined as per the previous code\n",
    "\n",
    "# Get the counts for the languages with most and least examples\n",
    "counts_most_examples = [language_example_counts[lang] for lang in languages_most_examples]\n",
    "counts_least_examples = [language_example_counts[lang] for lang in languages_least_examples]\n",
    "\n",
    "# Plotting the bar chart for top 10 languages with most examples\n",
    "plt.figure(figsize=(14, 6))\n",
    "\n",
    "plt.subplot(1, 2, 1)\n",
    "plt.barh(languages_most_examples, counts_most_examples, color='skyblue')\n",
    "plt.xlabel('Number of Examples')\n",
    "plt.ylabel('Languages')\n",
    "plt.title('Top 10 Languages with Most Examples')\n",
    "plt.gca().invert_yaxis()  # Invert y-axis to show the largest at the top\n",
    "\n",
    "# Plotting the bar chart for top 10 languages with least examples\n",
    "plt.subplot(1, 2, 2)\n",
    "plt.barh(languages_least_examples, counts_least_examples, color='lightcoral')\n",
    "plt.xlabel('Number of Examples')\n",
    "plt.ylabel('Languages')\n",
    "plt.title('Top 10 Languages with Least Examples')\n",
    "plt.gca().invert_yaxis()  # Invert y-axis to show the smallest at the top\n",
    "\n",
    "# Show the plot\n",
    "plt.tight_layout()\n",
    "plt.show()\n"
   ]
  },
  {
   "cell_type": "code",
   "execution_count": 135,
   "id": "ca382554",
   "metadata": {},
   "outputs": [],
   "source": [
    "from transformers import WhisperProcessor,WhisperForConditionalGeneration, Wav2Vec2Processor, Wav2Vec2ForCTC\n",
    "import torchaudio\n",
    "from datasets import Dataset\n",
    "import torch\n",
    "import os\n",
    "import numpy as np\n",
    "from jiwer import wer\n",
    "\n",
    "# Function to load and preprocess audio files\n",
    "def load_audio(path):\n",
    "    speech, _ = torchaudio.load(path)\n",
    "    return speech.squeeze().numpy()\n",
    "\n",
    "# Preprocess the dataset\n",
    "def preprocess(batch):\n",
    "    audio = [load_audio(path) for path in batch[\"audio\"]]\n",
    "    inputs = processor(audio, sampling_rate=16000, return_tensors=\"pt\").to(\"cuda\")\n",
    "    labels = processor.tokenizer(text=batch[\"sentence\"], return_tensors=\"pt\", padding=True).input_ids\n",
    "    inputs[\"labels\"] = labels.to(\"cuda\")\n",
    "    return inputs\n",
    "\n",
    "# Function to decode model predictions\n",
    "def decode_predictions(pred_ids):\n",
    "    pred_ids = pred_ids.cpu().numpy()\n",
    "    pred_str = processor.batch_decode(pred_ids)\n",
    "    return pred_str\n",
    "\n",
    "# Evaluate WER\n",
    "def compute_wer(batch, language=LANG):\n",
    "    inputs = {key: batch[key].to(\"cuda\") for key in batch if key != \"audio\" and key != \"sentence\"}\n",
    "\n",
    "    with torch.no_grad():\n",
    "        pred_ids = model.generate(inputs[\"input_features\"], language=language)\n",
    "    \n",
    "    pred_str = processor.tokenizer.batch_decode(pred_ids, skip_special_tokens=True)\n",
    "    pred_str = [remove_punctuation(x).lower().strip() for x in pred_str]\n",
    "    label_str = processor.batch_decode(batch[\"labels\"].cpu().numpy(), skip_special_tokens=True)\n",
    "    \n",
    "    wer_score = wer(label_str, pred_str)\n",
    "    return wer_score\n",
    "\n",
    "\n"
   ]
  },
  {
   "cell_type": "code",
   "execution_count": 142,
   "id": "ec7cbdc5",
   "metadata": {},
   "outputs": [
    {
     "data": {
      "application/vnd.jupyter.widget-view+json": {
       "model_id": "216889d68ffd4c548daf14f161d4e5ff",
       "version_major": 2,
       "version_minor": 0
      },
      "text/plain": [
       "Map:   0%|          | 0/148 [00:00<?, ? examples/s]"
      ]
     },
     "metadata": {},
     "output_type": "display_data"
    },
    {
     "name": "stderr",
     "output_type": "stream",
     "text": [
      "Processing batches: 100%|████████████████████████████████████████████████████████████████████████████████████| 5/5 [00:19<00:00,  3.92s/it]\n"
     ]
    },
    {
     "name": "stdout",
     "output_type": "stream",
     "text": [
      "bas Average WER: 1.5414070517480047\n"
     ]
    },
    {
     "data": {
      "application/vnd.jupyter.widget-view+json": {
       "model_id": "5ace2fecc57645d688da03efeb18d42a",
       "version_major": 2,
       "version_minor": 0
      },
      "text/plain": [
       "Map:   0%|          | 0/117 [00:00<?, ? examples/s]"
      ]
     },
     "metadata": {},
     "output_type": "display_data"
    },
    {
     "name": "stderr",
     "output_type": "stream",
     "text": [
      "Processing batches: 100%|████████████████████████████████████████████████████████████████████████████████████| 4/4 [00:27<00:00,  6.82s/it]\n"
     ]
    },
    {
     "name": "stdout",
     "output_type": "stream",
     "text": [
      "kin Average WER: 4.701485640753473\n"
     ]
    },
    {
     "data": {
      "application/vnd.jupyter.widget-view+json": {
       "model_id": "1fd39a517ea448999bc3f365e53abb24",
       "version_major": 2,
       "version_minor": 0
      },
      "text/plain": [
       "Map:   0%|          | 0/36 [00:00<?, ? examples/s]"
      ]
     },
     "metadata": {},
     "output_type": "display_data"
    },
    {
     "name": "stderr",
     "output_type": "stream",
     "text": [
      "Processing batches: 100%|████████████████████████████████████████████████████████████████████████████████████| 2/2 [00:12<00:00,  6.29s/it]\n"
     ]
    },
    {
     "name": "stdout",
     "output_type": "stream",
     "text": [
      "lug Average WER: 1.3577344625731724\n"
     ]
    },
    {
     "data": {
      "application/vnd.jupyter.widget-view+json": {
       "model_id": "216b52249e904a8694fca7eb8f62014f",
       "version_major": 2,
       "version_minor": 0
      },
      "text/plain": [
       "Map:   0%|          | 0/213 [00:00<?, ? examples/s]"
      ]
     },
     "metadata": {},
     "output_type": "display_data"
    },
    {
     "name": "stderr",
     "output_type": "stream",
     "text": [
      "Processing batches: 100%|████████████████████████████████████████████████████████████████████████████████████| 7/7 [01:01<00:00,  8.73s/it]\n"
     ]
    },
    {
     "name": "stdout",
     "output_type": "stream",
     "text": [
      "nso Average WER: 1.7320920305648644\n"
     ]
    },
    {
     "data": {
      "application/vnd.jupyter.widget-view+json": {
       "model_id": "ec1a9e9befe34c8fb6917634d27355ed",
       "version_major": 2,
       "version_minor": 0
      },
      "text/plain": [
       "Map:   0%|          | 0/33 [00:00<?, ? examples/s]"
      ]
     },
     "metadata": {},
     "output_type": "display_data"
    },
    {
     "name": "stderr",
     "output_type": "stream",
     "text": [
      "Processing batches: 100%|████████████████████████████████████████████████████████████████████████████████████| 2/2 [00:08<00:00,  4.37s/it]\n"
     ]
    },
    {
     "name": "stdout",
     "output_type": "stream",
     "text": [
      "nya Average WER: 1.5878550074738413\n"
     ]
    },
    {
     "data": {
      "application/vnd.jupyter.widget-view+json": {
       "model_id": "447ff2ac1e954c9ca60f380c3183504c",
       "version_major": 2,
       "version_minor": 0
      },
      "text/plain": [
       "Map:   0%|          | 0/116 [00:00<?, ? examples/s]"
      ]
     },
     "metadata": {},
     "output_type": "display_data"
    },
    {
     "name": "stderr",
     "output_type": "stream",
     "text": [
      "Processing batches: 100%|████████████████████████████████████████████████████████████████████████████████████| 4/4 [00:12<00:00,  3.00s/it]\n"
     ]
    },
    {
     "name": "stdout",
     "output_type": "stream",
     "text": [
      "ssw Average WER: 1.8960886916466055\n"
     ]
    },
    {
     "data": {
      "application/vnd.jupyter.widget-view+json": {
       "model_id": "afaf853571cf4bb19a9239c4544f7c31",
       "version_major": 2,
       "version_minor": 0
      },
      "text/plain": [
       "Map:   0%|          | 0/317 [00:00<?, ? examples/s]"
      ]
     },
     "metadata": {},
     "output_type": "display_data"
    },
    {
     "name": "stderr",
     "output_type": "stream",
     "text": [
      "Processing batches: 100%|██████████████████████████████████████████████████████████████████████████████████| 10/10 [01:14<00:00,  7.41s/it]\n"
     ]
    },
    {
     "name": "stdout",
     "output_type": "stream",
     "text": [
      "swa Average WER: 1.3677290711241297\n"
     ]
    },
    {
     "data": {
      "application/vnd.jupyter.widget-view+json": {
       "model_id": "b1d93d198c0d4d53aaf5d318e7a2ef14",
       "version_major": 2,
       "version_minor": 0
      },
      "text/plain": [
       "Map:   0%|          | 0/286 [00:00<?, ? examples/s]"
      ]
     },
     "metadata": {},
     "output_type": "display_data"
    },
    {
     "name": "stderr",
     "output_type": "stream",
     "text": [
      "Processing batches: 100%|████████████████████████████████████████████████████████████████████████████████████| 9/9 [00:56<00:00,  6.26s/it]\n"
     ]
    },
    {
     "name": "stdout",
     "output_type": "stream",
     "text": [
      "tsn Average WER: 3.2601825141541503\n"
     ]
    },
    {
     "data": {
      "application/vnd.jupyter.widget-view+json": {
       "model_id": "d876851a5b7b478088d562981b28917f",
       "version_major": 2,
       "version_minor": 0
      },
      "text/plain": [
       "Map:   0%|          | 0/147 [00:00<?, ? examples/s]"
      ]
     },
     "metadata": {},
     "output_type": "display_data"
    },
    {
     "name": "stderr",
     "output_type": "stream",
     "text": [
      "Processing batches: 100%|████████████████████████████████████████████████████████████████████████████████████| 5/5 [00:07<00:00,  1.54s/it]\n"
     ]
    },
    {
     "name": "stdout",
     "output_type": "stream",
     "text": [
      "ven Average WER: 0.9251800321355536\n"
     ]
    },
    {
     "data": {
      "application/vnd.jupyter.widget-view+json": {
       "model_id": "15afc3a003434e40a43ffa61012adb3a",
       "version_major": 2,
       "version_minor": 0
      },
      "text/plain": [
       "Map:   0%|          | 0/314 [00:00<?, ? examples/s]"
      ]
     },
     "metadata": {},
     "output_type": "display_data"
    },
    {
     "name": "stderr",
     "output_type": "stream",
     "text": [
      "Processing batches: 100%|██████████████████████████████████████████████████████████████████████████████████| 10/10 [01:03<00:00,  6.37s/it]\n"
     ]
    },
    {
     "name": "stdout",
     "output_type": "stream",
     "text": [
      "xho Average WER: 3.5466739240322314\n"
     ]
    },
    {
     "data": {
      "application/vnd.jupyter.widget-view+json": {
       "model_id": "e068b5c64d704396bb48f04855b395dd",
       "version_major": 2,
       "version_minor": 0
      },
      "text/plain": [
       "Map:   0%|          | 0/175 [00:00<?, ? examples/s]"
      ]
     },
     "metadata": {},
     "output_type": "display_data"
    },
    {
     "name": "stderr",
     "output_type": "stream",
     "text": [
      "Processing batches: 100%|████████████████████████████████████████████████████████████████████████████████████| 6/6 [00:27<00:00,  4.54s/it]"
     ]
    },
    {
     "name": "stdout",
     "output_type": "stream",
     "text": [
      "zul Average WER: 2.310262811394558\n"
     ]
    },
    {
     "name": "stderr",
     "output_type": "stream",
     "text": [
      "\n"
     ]
    }
   ],
   "source": [
    "LANG = \"swahili\"\n",
    "MODEL_ID = \"openai/whisper-small\"\n",
    "processor = WhisperProcessor.from_pretrained(MODEL_ID, language=LANG)\n",
    "model = WhisperForConditionalGeneration.from_pretrained(MODEL_ID).to(\"cuda\")\n",
    "\n",
    "languages = ['bas', 'kin', 'lug', 'nso', 'nya', 'ssw', 'swa', 'tsn', 'ven', 'xho', 'zul']\n",
    "\n",
    "for language in languages:\n",
    "    # Prepare the data for Hugging Face datasets\n",
    "    data = {\n",
    "        \"audio\": [],\n",
    "        \"sentence\": []\n",
    "    }\n",
    "\n",
    "    for path, sentence in zip(language_to_paths[language], language_to_sentences[language]):\n",
    "        data[\"audio\"].append(path)\n",
    "        data[\"sentence\"].append(sentence)\n",
    "\n",
    "    \n",
    "    dataset = Dataset.from_dict(data)\n",
    "\n",
    "\n",
    "    train_set = dataset.map(preprocess, batched=True, batch_size=32).with_format(\"torch\")\n",
    "    dataloader = DataLoader(train_set, batch_size=32)\n",
    "    \n",
    "    \n",
    "    model.generation_config.language = LANG\n",
    "    model.generation_config.task = \"transcribe\"\n",
    "    model.generation_config.forced_decoder_ids = None\n",
    "\n",
    "    # Compute WER for the entire dataset\n",
    "    wer_scores = []\n",
    "\n",
    "    # Use tqdm to wrap your dataloader to show a progress bar\n",
    "    for batch in tqdm(dataloader, desc=\"Processing batches\"):\n",
    "        wer_scores.append(compute_wer(batch))\n",
    "\n",
    "    average_wer = np.mean(wer_scores)\n",
    "    print(f\"{language} Average WER: {average_wer}\")"
   ]
  },
  {
   "cell_type": "code",
   "execution_count": 105,
   "id": "a265a5db",
   "metadata": {
    "scrolled": true
   },
   "outputs": [
    {
     "name": "stdout",
     "output_type": "stream",
     "text": [
      "Average WER: 2.3419111637460106\n"
     ]
    }
   ],
   "source": []
  },
  {
   "cell_type": "code",
   "execution_count": 106,
   "id": "c8bd8969",
   "metadata": {},
   "outputs": [],
   "source": [
    "for batch in dataloader:\n",
    "    inputs = {key: batch[key].to(\"cuda\") for key in batch if key != \"audio\" and key != \"sentence\"}\n",
    "    model.generation_config.language = \"swahili\"\n",
    "    model.generation_config.task = \"transcribe\"\n",
    "\n",
    "\n",
    "    with torch.no_grad():\n",
    "        pred_ids = model.generate(inputs[\"input_features\"], language=\"swahili\", )\n",
    "\n",
    "    pred_str = processor.tokenizer.batch_decode(pred_ids, skip_special_tokens=True)\n",
    "    pred_str = [remove_punctuation(x).lower().strip() for x in pred_str]\n",
    "    label_str = processor.batch_decode(batch[\"labels\"].cpu().numpy(), skip_special_tokens=True)\n",
    "\n",
    "    wer_score = wer(label_str, pred_str)\n",
    "    break"
   ]
  },
  {
   "cell_type": "code",
   "execution_count": 131,
   "id": "18a0603f",
   "metadata": {},
   "outputs": [],
   "source": [
    "i = 6"
   ]
  },
  {
   "cell_type": "code",
   "execution_count": 132,
   "id": "f8891504",
   "metadata": {
    "scrolled": true
   },
   "outputs": [
    {
     "data": {
      "text/plain": [
       "'mbunji inum blonganjin'"
      ]
     },
     "execution_count": 132,
     "metadata": {},
     "output_type": "execute_result"
    }
   ],
   "source": [
    "pred_str[i]"
   ]
  },
  {
   "cell_type": "code",
   "execution_count": 133,
   "id": "b47f2f12",
   "metadata": {},
   "outputs": [
    {
     "data": {
      "text/plain": [
       "'mbônji i nnumb loñge njiñ'"
      ]
     },
     "execution_count": 133,
     "metadata": {},
     "output_type": "execute_result"
    }
   ],
   "source": [
    "label_str[i]"
   ]
  },
  {
   "cell_type": "code",
   "execution_count": 134,
   "id": "f45903dd",
   "metadata": {},
   "outputs": [
    {
     "data": {
      "text/plain": [
       "1.0"
      ]
     },
     "execution_count": 134,
     "metadata": {},
     "output_type": "execute_result"
    }
   ],
   "source": [
    "wer([label_str[i]], [pred_str[i]])"
   ]
  },
  {
   "cell_type": "code",
   "execution_count": null,
   "id": "ddd5f0fa",
   "metadata": {},
   "outputs": [],
   "source": []
  }
 ],
 "metadata": {
  "kernelspec": {
   "display_name": "Python 3 (ipykernel)",
   "language": "python",
   "name": "python3"
  },
  "language_info": {
   "codemirror_mode": {
    "name": "ipython",
    "version": 3
   },
   "file_extension": ".py",
   "mimetype": "text/x-python",
   "name": "python",
   "nbconvert_exporter": "python",
   "pygments_lexer": "ipython3",
   "version": "3.10.8"
  }
 },
 "nbformat": 4,
 "nbformat_minor": 5
}
